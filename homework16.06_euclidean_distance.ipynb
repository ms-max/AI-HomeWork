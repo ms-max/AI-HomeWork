{
 "cells": [
  {
   "cell_type": "code",
   "execution_count": 2,
   "id": "a9371589",
   "metadata": {},
   "outputs": [],
   "source": [
    "import math"
   ]
  },
  {
   "cell_type": "code",
   "execution_count": 3,
   "id": "d39d1155",
   "metadata": {},
   "outputs": [
    {
     "name": "stdout",
     "output_type": "stream",
     "text": [
      "Enter x1 = 4\n"
     ]
    }
   ],
   "source": [
    "x1 = float(input(\"Enter x1 = \"))"
   ]
  },
  {
   "cell_type": "code",
   "execution_count": 4,
   "id": "a5fd0606",
   "metadata": {},
   "outputs": [
    {
     "name": "stdout",
     "output_type": "stream",
     "text": [
      "Enter y1 = 2\n"
     ]
    }
   ],
   "source": [
    "y1 = float(input(\"Enter y1 = \"))"
   ]
  },
  {
   "cell_type": "code",
   "execution_count": 5,
   "id": "455fe775",
   "metadata": {},
   "outputs": [
    {
     "name": "stdout",
     "output_type": "stream",
     "text": [
      "Enter x2 = 0\n"
     ]
    }
   ],
   "source": [
    "x2 = float(input(\"Enter x2 = \"))"
   ]
  },
  {
   "cell_type": "code",
   "execution_count": 6,
   "id": "22280378",
   "metadata": {},
   "outputs": [
    {
     "name": "stdout",
     "output_type": "stream",
     "text": [
      "Enter y2 = 0\n"
     ]
    }
   ],
   "source": [
    "y2 = float(input(\"Enter y2 = \"))"
   ]
  },
  {
   "cell_type": "code",
   "execution_count": 8,
   "id": "811b10b9",
   "metadata": {},
   "outputs": [],
   "source": [
    "distante = math.sqrt((x1 - x2) ** 2 + (y1 - y2) ** 2)"
   ]
  },
  {
   "cell_type": "code",
   "execution_count": 9,
   "id": "d771931c",
   "metadata": {},
   "outputs": [
    {
     "name": "stdout",
     "output_type": "stream",
     "text": [
      " D = 4.47\n"
     ]
    }
   ],
   "source": [
    "print(\" D = %.2f\" % distante)"
   ]
  }
 ],
 "metadata": {
  "kernelspec": {
   "display_name": "Python 3",
   "language": "python",
   "name": "python3"
  },
  "language_info": {
   "codemirror_mode": {
    "name": "ipython",
    "version": 3
   },
   "file_extension": ".py",
   "mimetype": "text/x-python",
   "name": "python",
   "nbconvert_exporter": "python",
   "pygments_lexer": "ipython3",
   "version": "3.7.9"
  }
 },
 "nbformat": 4,
 "nbformat_minor": 5
}
