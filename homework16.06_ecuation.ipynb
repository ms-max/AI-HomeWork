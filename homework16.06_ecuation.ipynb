{
 "cells": [
  {
   "cell_type": "code",
   "execution_count": 25,
   "id": "7d90a21f",
   "metadata": {},
   "outputs": [
    {
     "name": "stdout",
     "output_type": "stream",
     "text": [
      "Enter a = 1\n"
     ]
    }
   ],
   "source": [
    "num_a = float(input(\"Enter a = \"))"
   ]
  },
  {
   "cell_type": "code",
   "execution_count": 26,
   "id": "c7f7b6b9",
   "metadata": {},
   "outputs": [
    {
     "name": "stdout",
     "output_type": "stream",
     "text": [
      "Enter b = 2\n"
     ]
    }
   ],
   "source": [
    "num_b = float(input(\"Enter b = \"))"
   ]
  },
  {
   "cell_type": "code",
   "execution_count": 27,
   "id": "03ad233e",
   "metadata": {},
   "outputs": [
    {
     "name": "stdout",
     "output_type": "stream",
     "text": [
      "Enter c = 1\n"
     ]
    }
   ],
   "source": [
    "num_c = float(input(\"Enter c = \"))"
   ]
  },
  {
   "cell_type": "code",
   "execution_count": 28,
   "id": "7aed8d6c",
   "metadata": {},
   "outputs": [],
   "source": [
    "import math"
   ]
  },
  {
   "cell_type": "code",
   "execution_count": 29,
   "id": "d7175c9f",
   "metadata": {},
   "outputs": [],
   "source": [
    "discr = num_b ** 2 - 4 * num_a * num_c "
   ]
  },
  {
   "cell_type": "code",
   "execution_count": 30,
   "id": "4fe46009",
   "metadata": {},
   "outputs": [
    {
     "name": "stdout",
     "output_type": "stream",
     "text": [
      " D = 0.00\n"
     ]
    }
   ],
   "source": [
    "print(\" D = %.2f\" % discr)"
   ]
  },
  {
   "cell_type": "code",
   "execution_count": 31,
   "id": "5912dbc3",
   "metadata": {},
   "outputs": [
    {
     "name": "stdout",
     "output_type": "stream",
     "text": [
      "x = -1.00\n"
     ]
    }
   ],
   "source": [
    "if discr > 0:\n",
    "    x1 = (-num_b + math.sqrt(discr)) / (2 * num_a)\n",
    "    x2 = (-num_b - math.sqrt(discr)) / (2 * num_a)\n",
    "    print(\"x1 = %.2f \\nx2 = %.2f\" % (x1, x2))\n",
    "elif discr == 0:\n",
    "    x = -num_b / (2 * num_a)\n",
    "    print(\"x = %.2f\" % x)\n",
    "else:\n",
    "    print(\"D<0\")"
   ]
  },
  {
   "cell_type": "code",
   "execution_count": null,
   "id": "c08c57a3",
   "metadata": {},
   "outputs": [],
   "source": []
  }
 ],
 "metadata": {
  "kernelspec": {
   "display_name": "Python 3",
   "language": "python",
   "name": "python3"
  },
  "language_info": {
   "codemirror_mode": {
    "name": "ipython",
    "version": 3
   },
   "file_extension": ".py",
   "mimetype": "text/x-python",
   "name": "python",
   "nbconvert_exporter": "python",
   "pygments_lexer": "ipython3",
   "version": "3.7.9"
  }
 },
 "nbformat": 4,
 "nbformat_minor": 5
}
